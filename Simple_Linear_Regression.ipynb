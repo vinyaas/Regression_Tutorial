{
 "cells": [
  {
   "cell_type": "code",
   "execution_count": 1,
   "metadata": {},
   "outputs": [],
   "source": [
    "import pandas as pd \n",
    "import numpy as np \n",
    "import seaborn as sns"
   ]
  },
  {
   "cell_type": "code",
   "execution_count": 2,
   "metadata": {},
   "outputs": [
    {
     "data": {
      "text/html": [
       "<div>\n",
       "<style scoped>\n",
       "    .dataframe tbody tr th:only-of-type {\n",
       "        vertical-align: middle;\n",
       "    }\n",
       "\n",
       "    .dataframe tbody tr th {\n",
       "        vertical-align: top;\n",
       "    }\n",
       "\n",
       "    .dataframe thead th {\n",
       "        text-align: right;\n",
       "    }\n",
       "</style>\n",
       "<table border=\"1\" class=\"dataframe\">\n",
       "  <thead>\n",
       "    <tr style=\"text-align: right;\">\n",
       "      <th></th>\n",
       "      <th>Product_Age_Months</th>\n",
       "      <th>Marketing_Budget_1000s</th>\n",
       "      <th>Seasonal_Sales_Boost</th>\n",
       "      <th>Product_Price</th>\n",
       "      <th>Discount_Rate</th>\n",
       "      <th>Total_Sales</th>\n",
       "    </tr>\n",
       "  </thead>\n",
       "  <tbody>\n",
       "    <tr>\n",
       "      <th>0</th>\n",
       "      <td>21</td>\n",
       "      <td>2.98</td>\n",
       "      <td>Low</td>\n",
       "      <td>67.01</td>\n",
       "      <td>0.06</td>\n",
       "      <td>1402.63</td>\n",
       "    </tr>\n",
       "    <tr>\n",
       "      <th>1</th>\n",
       "      <td>24</td>\n",
       "      <td>5.57</td>\n",
       "      <td>High</td>\n",
       "      <td>109.98</td>\n",
       "      <td>0.07</td>\n",
       "      <td>520.01</td>\n",
       "    </tr>\n",
       "    <tr>\n",
       "      <th>2</th>\n",
       "      <td>13</td>\n",
       "      <td>3.16</td>\n",
       "      <td>High</td>\n",
       "      <td>130.09</td>\n",
       "      <td>0.07</td>\n",
       "      <td>1710.32</td>\n",
       "    </tr>\n",
       "    <tr>\n",
       "      <th>3</th>\n",
       "      <td>5</td>\n",
       "      <td>8.15</td>\n",
       "      <td>High</td>\n",
       "      <td>135.76</td>\n",
       "      <td>0.27</td>\n",
       "      <td>835.64</td>\n",
       "    </tr>\n",
       "    <tr>\n",
       "      <th>4</th>\n",
       "      <td>20</td>\n",
       "      <td>6.64</td>\n",
       "      <td>Low</td>\n",
       "      <td>62.24</td>\n",
       "      <td>0.08</td>\n",
       "      <td>1288.63</td>\n",
       "    </tr>\n",
       "  </tbody>\n",
       "</table>\n",
       "</div>"
      ],
      "text/plain": [
       "   Product_Age_Months  Marketing_Budget_1000s Seasonal_Sales_Boost  \\\n",
       "0                  21                    2.98                  Low   \n",
       "1                  24                    5.57                 High   \n",
       "2                  13                    3.16                 High   \n",
       "3                   5                    8.15                 High   \n",
       "4                  20                    6.64                  Low   \n",
       "\n",
       "   Product_Price  Discount_Rate  Total_Sales  \n",
       "0          67.01           0.06      1402.63  \n",
       "1         109.98           0.07       520.01  \n",
       "2         130.09           0.07      1710.32  \n",
       "3         135.76           0.27       835.64  \n",
       "4          62.24           0.08      1288.63  "
      ]
     },
     "execution_count": 2,
     "metadata": {},
     "output_type": "execute_result"
    }
   ],
   "source": [
    "data = {\n",
    "    'Product_Age_Months': np.random.randint(1, 25, 40),  # Independent Variable 1\n",
    "    'Marketing_Budget_1000s': np.round(np.random.uniform(1, 10, 40), 2),  # Independent Variable 2\n",
    "    'Seasonal_Sales_Boost': np.random.choice(['Low', 'Medium', 'High'], 40),  # Categorical Variable (will need encoding for SLR)\n",
    "    'Product_Price': np.round(np.random.uniform(50, 150, 40), 2),  # Independent Variable 3\n",
    "    'Discount_Rate': np.round(np.random.uniform(0, 0.3, 40), 2),  # Independent Variable 4\n",
    "    'Total_Sales': np.round(np.random.uniform(500, 2500, 40), 2)  # Dependent Variable (Target)\n",
    "}\n",
    "\n",
    "# Convert to DataFrame\n",
    "df = pd.DataFrame(data)\n",
    "df.head()"
   ]
  },
  {
   "cell_type": "code",
   "execution_count": 3,
   "metadata": {},
   "outputs": [],
   "source": [
    "x = df.drop('Total_Sales' , axis = 1)\n",
    "y = df['Total_Sales']"
   ]
  },
  {
   "cell_type": "code",
   "execution_count": 4,
   "metadata": {},
   "outputs": [],
   "source": [
    "num_features = x.select_dtypes(include='number').columns.tolist()\n",
    "cat_features = x.select_dtypes(include='object').columns.tolist()"
   ]
  },
  {
   "cell_type": "code",
   "execution_count": 5,
   "metadata": {},
   "outputs": [
    {
     "data": {
      "text/html": [
       "<div>\n",
       "<style scoped>\n",
       "    .dataframe tbody tr th:only-of-type {\n",
       "        vertical-align: middle;\n",
       "    }\n",
       "\n",
       "    .dataframe tbody tr th {\n",
       "        vertical-align: top;\n",
       "    }\n",
       "\n",
       "    .dataframe thead th {\n",
       "        text-align: right;\n",
       "    }\n",
       "</style>\n",
       "<table border=\"1\" class=\"dataframe\">\n",
       "  <thead>\n",
       "    <tr style=\"text-align: right;\">\n",
       "      <th></th>\n",
       "      <th>Product_Age_Months</th>\n",
       "      <th>Marketing_Budget_1000s</th>\n",
       "      <th>Product_Price</th>\n",
       "      <th>Discount_Rate</th>\n",
       "      <th>Seasonal_Sales_Boost_High</th>\n",
       "      <th>Seasonal_Sales_Boost_Low</th>\n",
       "      <th>Seasonal_Sales_Boost_Medium</th>\n",
       "    </tr>\n",
       "  </thead>\n",
       "  <tbody>\n",
       "    <tr>\n",
       "      <th>0</th>\n",
       "      <td>1.217420</td>\n",
       "      <td>-1.225227</td>\n",
       "      <td>-1.009333</td>\n",
       "      <td>-1.139044</td>\n",
       "      <td>0.0</td>\n",
       "      <td>1.0</td>\n",
       "      <td>0.0</td>\n",
       "    </tr>\n",
       "    <tr>\n",
       "      <th>1</th>\n",
       "      <td>1.682676</td>\n",
       "      <td>-0.147693</td>\n",
       "      <td>0.494961</td>\n",
       "      <td>-1.010701</td>\n",
       "      <td>1.0</td>\n",
       "      <td>0.0</td>\n",
       "      <td>0.0</td>\n",
       "    </tr>\n",
       "    <tr>\n",
       "      <th>2</th>\n",
       "      <td>-0.023263</td>\n",
       "      <td>-1.150340</td>\n",
       "      <td>1.198972</td>\n",
       "      <td>-1.010701</td>\n",
       "      <td>1.0</td>\n",
       "      <td>0.0</td>\n",
       "      <td>0.0</td>\n",
       "    </tr>\n",
       "  </tbody>\n",
       "</table>\n",
       "</div>"
      ],
      "text/plain": [
       "   Product_Age_Months  Marketing_Budget_1000s  Product_Price  Discount_Rate  \\\n",
       "0            1.217420               -1.225227      -1.009333      -1.139044   \n",
       "1            1.682676               -0.147693       0.494961      -1.010701   \n",
       "2           -0.023263               -1.150340       1.198972      -1.010701   \n",
       "\n",
       "   Seasonal_Sales_Boost_High  Seasonal_Sales_Boost_Low  \\\n",
       "0                        0.0                       1.0   \n",
       "1                        1.0                       0.0   \n",
       "2                        1.0                       0.0   \n",
       "\n",
       "   Seasonal_Sales_Boost_Medium  \n",
       "0                          0.0  \n",
       "1                          0.0  \n",
       "2                          0.0  "
      ]
     },
     "execution_count": 5,
     "metadata": {},
     "output_type": "execute_result"
    }
   ],
   "source": [
    "from sklearn.preprocessing import StandardScaler , OneHotEncoder\n",
    "from sklearn.compose import ColumnTransformer\n",
    "from sklearn.pipeline import Pipeline\n",
    "\n",
    "numeric_transformer = Pipeline(steps=[\n",
    "    ('scaler' , StandardScaler())\n",
    "])\n",
    "\n",
    "categorical_transformer = Pipeline(steps=[\n",
    "    ('encoder' , OneHotEncoder())\n",
    "])\n",
    "\n",
    "preprocessor = ColumnTransformer(\n",
    "    transformers=[\n",
    "        ('num' , numeric_transformer , num_features) , \n",
    "        ('cat' , categorical_transformer , cat_features)\n",
    "    ]\n",
    ")\n",
    "\n",
    "preprocessed_data = pd.DataFrame(preprocessor.fit_transform(x))\n",
    "column_names = [col.replace('num__' , '').replace('cat__' , '') for col in preprocessor.get_feature_names_out()]\n",
    "x = pd.DataFrame(preprocessor.fit_transform(x) , columns=column_names)\n",
    "x.head(3)"
   ]
  },
  {
   "cell_type": "code",
   "execution_count": 6,
   "metadata": {},
   "outputs": [],
   "source": [
    "# Splitting the data to test train set\n",
    "from sklearn.model_selection import train_test_split\n",
    "\n",
    "x_train , x_test , y_train , y_test = train_test_split(x , y , test_size= 0.25 , random_state=42)"
   ]
  },
  {
   "cell_type": "code",
   "execution_count": 7,
   "metadata": {},
   "outputs": [
    {
     "name": "stdout",
     "output_type": "stream",
     "text": [
      "MSE: 580181.91, R2 Score: -1.13\n"
     ]
    }
   ],
   "source": [
    "from sklearn.linear_model import LinearRegression\n",
    "from sklearn.metrics import mean_squared_error , r2_score\n",
    "\n",
    "model = LinearRegression()\n",
    "model.fit(x_train , y_train)\n",
    "y_pred = model.predict(x_test)\n",
    "\n",
    "mse = mean_squared_error(y_test, y_pred)\n",
    "r2 = r2_score(y_test, y_pred)\n",
    "print(f\"MSE: {mse:.2f}, R2 Score: {r2:.2f}\")"
   ]
  }
 ],
 "metadata": {
  "kernelspec": {
   "display_name": "Python 3",
   "language": "python",
   "name": "python3"
  },
  "language_info": {
   "codemirror_mode": {
    "name": "ipython",
    "version": 3
   },
   "file_extension": ".py",
   "mimetype": "text/x-python",
   "name": "python",
   "nbconvert_exporter": "python",
   "pygments_lexer": "ipython3",
   "version": "3.12.5"
  }
 },
 "nbformat": 4,
 "nbformat_minor": 2
}
