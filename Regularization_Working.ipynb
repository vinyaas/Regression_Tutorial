{
 "cells": [
  {
   "cell_type": "code",
   "execution_count": 2,
   "metadata": {},
   "outputs": [],
   "source": [
    "import pandas as pd \n",
    "import numpy as np \n",
    "from sklearn.datasets import fetch_california_housing\n",
    "import seaborn as sns\n",
    "import matplotlib.pyplot as plt"
   ]
  },
  {
   "cell_type": "code",
   "execution_count": 3,
   "metadata": {},
   "outputs": [
    {
     "data": {
      "text/html": [
       "<div>\n",
       "<style scoped>\n",
       "    .dataframe tbody tr th:only-of-type {\n",
       "        vertical-align: middle;\n",
       "    }\n",
       "\n",
       "    .dataframe tbody tr th {\n",
       "        vertical-align: top;\n",
       "    }\n",
       "\n",
       "    .dataframe thead th {\n",
       "        text-align: right;\n",
       "    }\n",
       "</style>\n",
       "<table border=\"1\" class=\"dataframe\">\n",
       "  <thead>\n",
       "    <tr style=\"text-align: right;\">\n",
       "      <th></th>\n",
       "      <th>MedInc</th>\n",
       "      <th>HouseAge</th>\n",
       "      <th>AveRooms</th>\n",
       "      <th>AveBedrms</th>\n",
       "      <th>Population</th>\n",
       "      <th>AveOccup</th>\n",
       "      <th>Latitude</th>\n",
       "      <th>Longitude</th>\n",
       "      <th>target</th>\n",
       "    </tr>\n",
       "  </thead>\n",
       "  <tbody>\n",
       "    <tr>\n",
       "      <th>0</th>\n",
       "      <td>8.3252</td>\n",
       "      <td>41.0</td>\n",
       "      <td>6.984127</td>\n",
       "      <td>1.023810</td>\n",
       "      <td>322.0</td>\n",
       "      <td>2.555556</td>\n",
       "      <td>37.88</td>\n",
       "      <td>-122.23</td>\n",
       "      <td>4.526</td>\n",
       "    </tr>\n",
       "    <tr>\n",
       "      <th>1</th>\n",
       "      <td>8.3014</td>\n",
       "      <td>21.0</td>\n",
       "      <td>6.238137</td>\n",
       "      <td>0.971880</td>\n",
       "      <td>2401.0</td>\n",
       "      <td>2.109842</td>\n",
       "      <td>37.86</td>\n",
       "      <td>-122.22</td>\n",
       "      <td>3.585</td>\n",
       "    </tr>\n",
       "    <tr>\n",
       "      <th>2</th>\n",
       "      <td>7.2574</td>\n",
       "      <td>52.0</td>\n",
       "      <td>8.288136</td>\n",
       "      <td>1.073446</td>\n",
       "      <td>496.0</td>\n",
       "      <td>2.802260</td>\n",
       "      <td>37.85</td>\n",
       "      <td>-122.24</td>\n",
       "      <td>3.521</td>\n",
       "    </tr>\n",
       "    <tr>\n",
       "      <th>3</th>\n",
       "      <td>5.6431</td>\n",
       "      <td>52.0</td>\n",
       "      <td>5.817352</td>\n",
       "      <td>1.073059</td>\n",
       "      <td>558.0</td>\n",
       "      <td>2.547945</td>\n",
       "      <td>37.85</td>\n",
       "      <td>-122.25</td>\n",
       "      <td>3.413</td>\n",
       "    </tr>\n",
       "    <tr>\n",
       "      <th>4</th>\n",
       "      <td>3.8462</td>\n",
       "      <td>52.0</td>\n",
       "      <td>6.281853</td>\n",
       "      <td>1.081081</td>\n",
       "      <td>565.0</td>\n",
       "      <td>2.181467</td>\n",
       "      <td>37.85</td>\n",
       "      <td>-122.25</td>\n",
       "      <td>3.422</td>\n",
       "    </tr>\n",
       "  </tbody>\n",
       "</table>\n",
       "</div>"
      ],
      "text/plain": [
       "   MedInc  HouseAge  AveRooms  AveBedrms  ...  AveOccup  Latitude  Longitude  target\n",
       "0  8.3252      41.0  6.984127   1.023810  ...  2.555556     37.88    -122.23   4.526\n",
       "1  8.3014      21.0  6.238137   0.971880  ...  2.109842     37.86    -122.22   3.585\n",
       "2  7.2574      52.0  8.288136   1.073446  ...  2.802260     37.85    -122.24   3.521\n",
       "3  5.6431      52.0  5.817352   1.073059  ...  2.547945     37.85    -122.25   3.413\n",
       "4  3.8462      52.0  6.281853   1.081081  ...  2.181467     37.85    -122.25   3.422\n",
       "\n",
       "[5 rows x 9 columns]"
      ]
     },
     "execution_count": 3,
     "metadata": {},
     "output_type": "execute_result"
    }
   ],
   "source": [
    "cal_housing = fetch_california_housing()\n",
    "df = pd.DataFrame(data = cal_housing.data , columns= cal_housing.feature_names)\n",
    "df['target'] = cal_housing.target\n",
    "df.head()"
   ]
  },
  {
   "cell_type": "code",
   "execution_count": 4,
   "metadata": {},
   "outputs": [],
   "source": [
    "x = df.drop('target' , axis = 1)\n",
    "y = df['target']"
   ]
  },
  {
   "cell_type": "code",
   "execution_count": 5,
   "metadata": {},
   "outputs": [
    {
     "data": {
      "text/html": [
       "<div>\n",
       "<style scoped>\n",
       "    .dataframe tbody tr th:only-of-type {\n",
       "        vertical-align: middle;\n",
       "    }\n",
       "\n",
       "    .dataframe tbody tr th {\n",
       "        vertical-align: top;\n",
       "    }\n",
       "\n",
       "    .dataframe thead th {\n",
       "        text-align: right;\n",
       "    }\n",
       "</style>\n",
       "<table border=\"1\" class=\"dataframe\">\n",
       "  <thead>\n",
       "    <tr style=\"text-align: right;\">\n",
       "      <th></th>\n",
       "      <th>MedInc</th>\n",
       "      <th>HouseAge</th>\n",
       "      <th>AveRooms</th>\n",
       "      <th>AveBedrms</th>\n",
       "      <th>Population</th>\n",
       "      <th>AveOccup</th>\n",
       "      <th>Latitude</th>\n",
       "      <th>Longitude</th>\n",
       "    </tr>\n",
       "  </thead>\n",
       "  <tbody>\n",
       "    <tr>\n",
       "      <th>0</th>\n",
       "      <td>2.344766</td>\n",
       "      <td>0.982143</td>\n",
       "      <td>0.628559</td>\n",
       "      <td>-0.153758</td>\n",
       "      <td>-0.974429</td>\n",
       "      <td>-0.049597</td>\n",
       "      <td>1.052548</td>\n",
       "      <td>-1.327835</td>\n",
       "    </tr>\n",
       "    <tr>\n",
       "      <th>1</th>\n",
       "      <td>2.332238</td>\n",
       "      <td>-0.607019</td>\n",
       "      <td>0.327041</td>\n",
       "      <td>-0.263336</td>\n",
       "      <td>0.861439</td>\n",
       "      <td>-0.092512</td>\n",
       "      <td>1.043185</td>\n",
       "      <td>-1.322844</td>\n",
       "    </tr>\n",
       "    <tr>\n",
       "      <th>2</th>\n",
       "      <td>1.782699</td>\n",
       "      <td>1.856182</td>\n",
       "      <td>1.155620</td>\n",
       "      <td>-0.049016</td>\n",
       "      <td>-0.820777</td>\n",
       "      <td>-0.025843</td>\n",
       "      <td>1.038503</td>\n",
       "      <td>-1.332827</td>\n",
       "    </tr>\n",
       "  </tbody>\n",
       "</table>\n",
       "</div>"
      ],
      "text/plain": [
       "     MedInc  HouseAge  AveRooms  ...  AveOccup  Latitude  Longitude\n",
       "0  2.344766  0.982143  0.628559  ... -0.049597  1.052548  -1.327835\n",
       "1  2.332238 -0.607019  0.327041  ... -0.092512  1.043185  -1.322844\n",
       "2  1.782699  1.856182  1.155620  ... -0.025843  1.038503  -1.332827\n",
       "\n",
       "[3 rows x 8 columns]"
      ]
     },
     "execution_count": 5,
     "metadata": {},
     "output_type": "execute_result"
    }
   ],
   "source": [
    "from sklearn.preprocessing import StandardScaler\n",
    "from sklearn.pipeline import Pipeline\n",
    "from sklearn.compose import ColumnTransformer\n",
    "\n",
    "num_transformer = Pipeline(steps = [\n",
    "    ('scaler' , StandardScaler())\n",
    "])\n",
    "\n",
    "preprocessor = ColumnTransformer(\n",
    "    transformers=[\n",
    "        ('num' ,num_transformer , x.columns )\n",
    "    ]\n",
    ")\n",
    "\n",
    "preprocessed_data = preprocessor.fit_transform(x)\n",
    "col_names = [col.replace('num__' , '').replace('num__' , '') for col in preprocessor.get_feature_names_out()]\n",
    "x = pd.DataFrame(data = preprocessed_data , columns= col_names)\n",
    "x.head(3)"
   ]
  },
  {
   "cell_type": "code",
   "execution_count": 6,
   "metadata": {},
   "outputs": [],
   "source": [
    "from sklearn.model_selection import train_test_split\n",
    "\n",
    "def data_splitter(features : pd.DataFrame , target : pd.Series):\n",
    "    \n",
    "    try:\n",
    "        \n",
    "        if x.ndim!=2 and y.ndim!=1:\n",
    "            raise ValueError('X must be 2 Dimensional and Y must be 1 Dimensional')\n",
    "            \n",
    "        x_train , x_test , y_train , y_test = train_test_split(features , target , test_size= 20 , random_state= 42)\n",
    "        return x_train , x_test , y_train , y_test\n",
    "    \n",
    "    except Exception as e:\n",
    "        print(f\"An error occured {e}\")\n",
    "\n",
    "x_train , x_test , y_train , y_test = data_splitter( x, y)"
   ]
  },
  {
   "cell_type": "code",
   "execution_count": 7,
   "metadata": {},
   "outputs": [
    {
     "name": "stdout",
     "output_type": "stream",
     "text": [
      "Mean squared error :  0.5830668749012882\n",
      "Mean absolute error :  0.5880006847476305\n"
     ]
    }
   ],
   "source": [
    "from sklearn.linear_model import LinearRegression\n",
    "from sklearn.metrics import mean_squared_error , mean_absolute_error\n",
    "\n",
    "def model_training(x_train , x_test , y_train , y_test):\n",
    "    \n",
    "    model = LinearRegression()\n",
    "    model.fit(x_train , y_train)\n",
    "    y_pred = model.predict(x_test)\n",
    "    \n",
    "    mse = mean_squared_error(y_pred , y_test)\n",
    "    mae = mean_absolute_error(y_pred , y_test)\n",
    "    \n",
    "    return mse , mae\n",
    "\n",
    "mse , mae = model_training(x_train , x_test , y_train , y_test)\n",
    "print(\"Mean squared error : \" , mse)\n",
    "print(\"Mean absolute error : \" , mae)"
   ]
  },
  {
   "cell_type": "code",
   "execution_count": 10,
   "metadata": {},
   "outputs": [
    {
     "name": "stdout",
     "output_type": "stream",
     "text": [
      "Lasso regression MSE : 0.8183152375223262\n"
     ]
    }
   ],
   "source": [
    "from sklearn.linear_model import Lasso , Ridge , ElasticNet\n",
    "\n",
    "lasso_model = Lasso(alpha = 0.1 , random_state= 42)\n",
    "lasso_model.fit(x_train , y_train)\n",
    "\n",
    "ypred_lasso = lasso_model.predict(x_test)\n",
    "\n",
    "mse_lasso = mean_squared_error(ypred_lasso , y_test)\n",
    "print(f'Lasso regression MSE : {mse_lasso}')"
   ]
  },
  {
   "cell_type": "code",
   "execution_count": 11,
   "metadata": {},
   "outputs": [
    {
     "name": "stdout",
     "output_type": "stream",
     "text": [
      "Ridge Regression MSE : 0.5830734013151717\n"
     ]
    }
   ],
   "source": [
    "ridge_model = Ridge(alpha = 0.1 , random_state=42)\n",
    "ridge_model.fit(x_train , y_train)\n",
    "\n",
    "ypred_ridge = ridge_model.predict(x_test)\n",
    "mse_ridge = mean_squared_error(ypred_ridge , y_test)\n",
    "print(f'Ridge Regression MSE : {mse_ridge}')"
   ]
  },
  {
   "cell_type": "code",
   "execution_count": 12,
   "metadata": {},
   "outputs": [
    {
     "name": "stdout",
     "output_type": "stream",
     "text": [
      "Elastic net regression MSE : 0.7874990493979253\n"
     ]
    }
   ],
   "source": [
    "e_model = ElasticNet(alpha=0.1 , l1_ratio=0.5 , random_state= 42)\n",
    "e_model.fit(x_train , y_train)\n",
    "\n",
    "ypred_e = e_model.predict(x_test)\n",
    "mse_elasticnet = mean_squared_error(ypred_e , y_test)\n",
    "print(f\"Elastic net regression MSE : {mse_elasticnet}\")"
   ]
  },
  {
   "cell_type": "code",
   "execution_count": 14,
   "metadata": {},
   "outputs": [
    {
     "name": "stdout",
     "output_type": "stream",
     "text": [
      "Lasso Regression Best Parameters:  {'alpha': np.float64(0.004291934260128779)}\n",
      "Lasso Regression Best Score:  0.6024811566833712\n"
     ]
    }
   ],
   "source": [
    "from sklearn.model_selection import GridSearchCV\n",
    "\n",
    "# Define the hyperparameter grid for Lasso regression\n",
    "lasso_grid = {'alpha': np.logspace(-4, 0, 50)}\n",
    "\n",
    "# Perform grid search for Lasso regression\n",
    "lasso_grid_search = GridSearchCV(Lasso(random_state=42), lasso_grid, cv=5)\n",
    "lasso_grid_search.fit(x_train, y_train)\n",
    "\n",
    "# Print the best parameters and the best score for Lasso regression\n",
    "print(\"Lasso Regression Best Parameters: \", lasso_grid_search.best_params_)\n",
    "print(\"Lasso Regression Best Score: \", lasso_grid_search.best_score_)"
   ]
  },
  {
   "cell_type": "code",
   "execution_count": 19,
   "metadata": {},
   "outputs": [
    {
     "name": "stdout",
     "output_type": "stream",
     "text": [
      "Ridge Regression Best Parameters:  {'alpha': np.float64(1.0)}\n",
      "Ridge Regression Best Score:  0.6016013995988703\n"
     ]
    }
   ],
   "source": [
    "ridge_grid = {'alpha': np.logspace(-4, 0, 50)}\n",
    "\n",
    "# Perform grid search for Ridge regression\n",
    "ridge_grid_search = GridSearchCV(Ridge(random_state=42), ridge_grid, cv=4)\n",
    "ridge_grid_search.fit(x_train, y_train)\n",
    "\n",
    "# Print the best parameters and the best score for Ridge regression\n",
    "print(\"Ridge Regression Best Parameters: \", ridge_grid_search.best_params_)\n",
    "print(\"Ridge Regression Best Score: \", ridge_grid_search.best_score_)"
   ]
  }
 ],
 "metadata": {
  "kernelspec": {
   "display_name": "Python 3",
   "language": "python",
   "name": "python3"
  },
  "language_info": {
   "codemirror_mode": {
    "name": "ipython",
    "version": 3
   },
   "file_extension": ".py",
   "mimetype": "text/x-python",
   "name": "python",
   "nbconvert_exporter": "python",
   "pygments_lexer": "ipython3",
   "version": "3.12.5"
  }
 },
 "nbformat": 4,
 "nbformat_minor": 2
}
